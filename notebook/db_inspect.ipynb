{
 "cells": [
  {
   "attachments": {},
   "cell_type": "markdown",
   "metadata": {},
   "source": [
    "## Identificación de tablas"
   ]
  },
  {
   "cell_type": "code",
   "execution_count": null,
   "metadata": {},
   "outputs": [],
   "source": [
    "# Crear un objeto inspector para inspeccionar la base de datos\n",
    "inspector = inspect(engine)\n",
    "\n",
    "# Obtener los nombres de todas las tablas en la base de datos\n",
    "inspector.get_table_names()"
   ]
  }
 ],
 "metadata": {
  "language_info": {
   "name": "python"
  },
  "orig_nbformat": 4
 },
 "nbformat": 4,
 "nbformat_minor": 2
}
